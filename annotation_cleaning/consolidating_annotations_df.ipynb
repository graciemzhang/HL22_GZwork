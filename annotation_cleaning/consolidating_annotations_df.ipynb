{
 "cells": [
  {
   "cell_type": "markdown",
   "id": "0b468125",
   "metadata": {},
   "source": [
    "### Imports"
   ]
  },
  {
   "cell_type": "code",
   "execution_count": 4,
   "id": "74e770d2",
   "metadata": {},
   "outputs": [],
   "source": [
    "import pandas as pd\n",
    "import numpy as np\n",
    "import warnings\n",
    "import sys\n",
    "import os\n",
    "import csv\n",
    "import pickle\n",
    "import re\n",
    "import datetime\n",
    "warnings.filterwarnings(\"ignore\")"
   ]
  },
  {
   "cell_type": "code",
   "execution_count": 5,
   "id": "d560bbcc",
   "metadata": {},
   "outputs": [],
   "source": [
    "#establishes file paths\n",
    "cur = os.getcwd()\n",
    "\n",
    "#path to all completed annotations in csv form\n",
    "absolute = \"/Users/graciezhang/Documents/Hengen-Lab/annotations/completed/csv/\"\n",
    "\n",
    "#path to the original optical flow dataframe\n",
    "df_path = 'Files/optical_flow'"
   ]
  },
  {
   "cell_type": "code",
   "execution_count": 6,
   "id": "b910eee5",
   "metadata": {},
   "outputs": [],
   "source": [
    "#i pickled the OF dataframe for efficiency since it's used so often\n",
    "#- this cell is just opening and storing the OF dataframe to of_df\n",
    "infile = open(df_path,'rb')\n",
    "of_df = pickle.load(infile)\n",
    "infile.close()"
   ]
  },
  {
   "cell_type": "markdown",
   "id": "2ef7c1f6",
   "metadata": {},
   "source": [
    "### Cleaning Annotations"
   ]
  },
  {
   "cell_type": "markdown",
   "id": "1286771e",
   "metadata": {},
   "source": [
    "This is a multistep process. The original CSV comes with multiple lines of information before supplying the annotations and their corresponding timestamps. To retrieve the appropriate data, the following steps should be followed:"
   ]
  },
  {
   "cell_type": "code",
   "execution_count": 7,
   "id": "7d4ec051",
   "metadata": {},
   "outputs": [],
   "source": [
    "#ALL MICE\n",
    "# CAF26 (top + side)\n",
    "# CAF34\n",
    "# CAF42\n",
    "# CAF69\n",
    "# CAF99\n",
    "# CAF106"
   ]
  },
  {
   "cell_type": "code",
   "execution_count": 8,
   "id": "139f2f2b",
   "metadata": {},
   "outputs": [],
   "source": [
    "#encodes all categorical behaviors to numerical\n",
    "def cat_num(df):\n",
    "    #encode\n",
    "    df.Behavior[df.Behavior=='Nesting'] = 1 # Location\n",
    "    df.Behavior[df.Behavior=='Playing w/ Ball'] = 2 # Location\n",
    "    df.Behavior[df.Behavior=='Playing w/ Box'] = 3 # Location\n",
    "    df.Behavior[df.Behavior=='Riding the Ball'] = 4 # Location\n",
    "    df.Behavior[df.Behavior=='Riding the Box'] = 5 # Location\n",
    "    df.Behavior[df.Behavior=='Drinking'] = 6 # Location\n",
    "    df.Behavior[df.Behavior=='Chewing'] = 7 # Location\n",
    "    df.Behavior[df.Behavior=='Porthole Interaction'] = 8 # Location\n",
    "    df.Behavior[df.Behavior=='Scaling Porthole'] = 9 #Location\n",
    "    df.Behavior[df.Behavior=='Scaling Door'] = 10 #Location\n",
    "    \n",
    "    df.Behavior[df.Behavior=='Grooming'] = 11\n",
    "    \n",
    "    df.Behavior[df.Behavior=='Hollowing/Digging'] = 12\n",
    "    df.Behavior[df.Behavior=='Digging'] = 12\n",
    "    \n",
    "    df.Behavior[df.Behavior=='Locomotion'] = 13\n",
    "    df.Behavior[df.Behavior=='Locomotive Movement'] = 13\n",
    "    \n",
    "    df.Behavior[df.Behavior=='Minor Postural Movement'] = 14\n",
    "    df.Behavior[df.Behavior=='Rearing'] = 15\n",
    "    df.Behavior[df.Behavior=='Stretching'] = 16\n",
    "    df.Behavior[df.Behavior=='Twitching'] = 17\n",
    "    df.Behavior[df.Behavior=='Slipping'] = 18\n",
    "    \n",
    "    #drop all nonbehaviors\n",
    "    df = df[df.Behavior.apply(lambda x: str(x).isnumeric())]\n",
    "    \n",
    "    return df"
   ]
  },
  {
   "cell_type": "code",
   "execution_count": 9,
   "id": "7256d2df",
   "metadata": {},
   "outputs": [],
   "source": [
    "#reads each line of the CSV file until the video name is hit\n",
    "#returns video name or None should it not be found\n",
    "def get_video_path(file_name):\n",
    "    with open(file_name, newline='') as f:\n",
    "      reader = csv.reader(f)\n",
    "      for row in reader:\n",
    "            if row[0] == \"Player #1\":\n",
    "                return row[1]\n",
    "    return None"
   ]
  },
  {
   "cell_type": "code",
   "execution_count": 10,
   "id": "e7f7c812",
   "metadata": {},
   "outputs": [],
   "source": [
    "#reads each line of the CSV file to determine when annotations begin\n",
    "def get_skip_rows(file_name):\n",
    "    with open(file_name, newline='') as f:\n",
    "      reader = csv.reader(f)\n",
    "      for i, row in enumerate(reader):\n",
    "            if row[0] == \"Time\":\n",
    "                return i\n",
    "    return None"
   ]
  },
  {
   "cell_type": "code",
   "execution_count": 11,
   "id": "fb18ac6d",
   "metadata": {},
   "outputs": [],
   "source": [
    "#adds Frames column to the generated CSV dataframe - converts all timestamps into corresponding frames\n",
    "def add_frames_column(df):\n",
    "    fps = 15\n",
    "    df['Frames'] = df['Time'].apply(lambda x: round(x * fps))\n",
    "    df.sort_values(by = ['Frames', 'Status'])\n",
    "    return df"
   ]
  },
  {
   "cell_type": "markdown",
   "id": "8381a30a",
   "metadata": {},
   "source": [
    "*clean_ants(file_path, mouse_name)* consolidates all the cleaning steps:\n",
    "1. The video that was annotated is extracted using the *get_video_path(file_name)* function. \n",
    "2. The number of rows to skip in order to only get the annotations is read in using the *get_skip_rows(file_name)* function.\n",
    "3. The csv is read in using pandas, with the appropriate number of rows to skip supplied.\n",
    "4. The video_path needs to be cleaned to get the file name of the video. \n",
    "5. The time column is converted to minutes (Time type) and added as a new column under \"Minutes\".\n",
    "6. Unnecessary columns are dropped\n",
    "7. Behaviors are encoded\n",
    "8. Frames column is added\n",
    "9. Cleaned dataframe and video_name are returned"
   ]
  },
  {
   "cell_type": "code",
   "execution_count": 18,
   "id": "41bcba06",
   "metadata": {},
   "outputs": [],
   "source": [
    "def clean_ants(file_path, mouse_name):\n",
    "    \"\"\"\n",
    "    The file_name should be standardized. The path I set for each annotation file was the directory, \n",
    "    which was the same for each csv, and the mouse name. This will change should there be multiple annotations \n",
    "    for each mouse. \n",
    "    \"\"\"\n",
    "    file_name = file_path + mouse_name + \".csv\"\n",
    "    video_path = get_video_path(file_name)\n",
    "    skip = get_skip_rows(file_name)\n",
    "    \n",
    "    df = pd.read_csv(file_name, skiprows = skip)\n",
    "    \n",
    "    video_name = re.split(\"/\", video_path)[-1]\n",
    "    \n",
    "    #add timestamps column\n",
    "    df['Minutes'] = df.apply(lambda row: str(datetime.timedelta(seconds = row['Time'])), axis=1)\n",
    "    \n",
    "    #drop unnecessary columns\n",
    "    drop_filter = df.filter([\"Media file path\", \"Subject\", \"Behavioral category\", \"Comment\"])\n",
    "    \n",
    "    df.drop(drop_filter, axis = 1, inplace = True)\n",
    "    \n",
    "    #encode all categorical behaviors\n",
    "    df = cat_num(df)\n",
    "    \n",
    "    #add frames columns\n",
    "    df = add_frames_column(df)\n",
    "    \n",
    "    return df, video_name"
   ]
  },
  {
   "cell_type": "markdown",
   "id": "992a03d0",
   "metadata": {},
   "source": [
    "All annotated video names are stored in a dictionary, with the mouse's name as the key. Again, should this be used when there are multiple annotations for one mouse, this structure should change. *clean_ants(file_path, mouse_name)* is called for each CSV annotation file."
   ]
  },
  {
   "cell_type": "code",
   "execution_count": 1,
   "id": "7401fb1f",
   "metadata": {},
   "outputs": [],
   "source": [
    "#stores all annotated video names into dictionary\n",
    "video_names = {}"
   ]
  },
  {
   "cell_type": "code",
   "execution_count": 11,
   "id": "41bfe520",
   "metadata": {},
   "outputs": [],
   "source": [
    "CAF34_df, vid34 = clean_ants(absolute, \"CAF34\")\n",
    "video_names[\"CAF34\"] = vid34"
   ]
  },
  {
   "cell_type": "code",
   "execution_count": 12,
   "id": "a71454c5",
   "metadata": {},
   "outputs": [],
   "source": [
    "CAF42_df, vid42 = clean_ants(absolute, \"CAF42\")\n",
    "video_names[\"CAF42\"] = vid42"
   ]
  },
  {
   "cell_type": "code",
   "execution_count": 13,
   "id": "26987335",
   "metadata": {},
   "outputs": [],
   "source": [
    "CAF69_df, vid69 = clean_ants(absolute, \"CAF69\")\n",
    "video_names[\"CAF69\"] = vid69"
   ]
  },
  {
   "cell_type": "code",
   "execution_count": 14,
   "id": "4685364e",
   "metadata": {},
   "outputs": [],
   "source": [
    "CAF77_df, vid77 = clean_ants(absolute, \"CAF77\")\n",
    "video_names[\"CAF77\"] = vid77"
   ]
  },
  {
   "cell_type": "code",
   "execution_count": 15,
   "id": "f7cb34df",
   "metadata": {},
   "outputs": [],
   "source": [
    "CAF99_df, vid99 = clean_ants(absolute, \"CAF99\")\n",
    "video_names[\"CAF99\"] = vid99"
   ]
  },
  {
   "cell_type": "code",
   "execution_count": 16,
   "id": "42ff25b9",
   "metadata": {},
   "outputs": [],
   "source": [
    "CAF106_df, vid106 = clean_ants(absolute, \"CAF106\")\n",
    "video_names[\"CAF106\"] = vid106"
   ]
  },
  {
   "cell_type": "code",
   "execution_count": 17,
   "id": "478dee03",
   "metadata": {},
   "outputs": [],
   "source": [
    "EAB50_df, vid50 = clean_ants(absolute, \"EAB50_5state\")\n",
    "video_names[\"EAB50_5state\"] = vid50"
   ]
  },
  {
   "cell_type": "markdown",
   "id": "8a190822",
   "metadata": {},
   "source": [
    "### Separating into Location and Regular Behaviors"
   ]
  },
  {
   "cell_type": "code",
   "execution_count": 19,
   "id": "8ad13c23",
   "metadata": {},
   "outputs": [],
   "source": [
    "#separates encoded behaviors based on location-constrained or not depending on value\n",
    "def sep_beh(df):\n",
    "    df_loc = df.loc[df.Behavior < 11]\n",
    "    df_reg = df.loc[df.Behavior >= 11]\n",
    "    \n",
    "    #generates two separate dataframes\n",
    "    return df_loc, df_reg"
   ]
  },
  {
   "cell_type": "code",
   "execution_count": 20,
   "id": "832806ba",
   "metadata": {},
   "outputs": [],
   "source": [
    "#called on each mouse's dataframe\n",
    "CAF34_loc_df, CAF34_reg_df = sep_beh(CAF34_df)\n",
    "CAF42_loc_df, CAF42_reg_df = sep_beh(CAF42_df)\n",
    "CAF69_loc_df, CAF69_reg_df = sep_beh(CAF69_df)\n",
    "CAF99_loc_df, CAF99_reg_df = sep_beh(CAF99_df)\n",
    "CAF106_loc_df, CAF106_reg_df = sep_beh(CAF106_df)"
   ]
  },
  {
   "cell_type": "code",
   "execution_count": 21,
   "id": "d4a2cfc0",
   "metadata": {},
   "outputs": [],
   "source": [
    "CAF77_loc_df, CAF77_reg_df = sep_beh(CAF77_df)"
   ]
  },
  {
   "cell_type": "code",
   "execution_count": 22,
   "id": "f0c8b17f",
   "metadata": {},
   "outputs": [],
   "source": [
    "EAB50_loc_df, EAB50_reg_df = sep_beh(EAB50_df)"
   ]
  },
  {
   "cell_type": "markdown",
   "id": "6452e05d",
   "metadata": {},
   "source": [
    "### Behavior Column"
   ]
  },
  {
   "cell_type": "code",
   "execution_count": 19,
   "id": "d887b4fd",
   "metadata": {},
   "outputs": [],
   "source": [
    "def behavior_arr(df, mouse_name):\n",
    "#     ALL VIDEOS ASSUMED TO HAVE 15 FPS\n",
    "#     total_time = df['Total length'].unique()[0]\n",
    "#     fps = 15\n",
    "#     fps = df['FPS'].unique()[0]\n",
    "    \n",
    "    #total frames taken from optical flow dataframe depending on how many rows the specified video takes up\n",
    "    total_frames = len(of_df[of_df[\"video_filename\"] == video_names[mouse_name]])\n",
    "    arr = np.zeros(total_frames)\n",
    "    \n",
    "    #frames column is converted to an array\n",
    "    frames_arr = df['Frames'].to_numpy()\n",
    "    \n",
    "    \"\"\"\n",
    "    The frames column is assumed to take on a certain structure. There should be no nested START and STOP behaviors\n",
    "    after location and regular behaviors are separated. Because of this assumption, iterating through even indexes\n",
    "    yields the start frame and odd indexes yields the stop frame.\n",
    "    \"\"\"\n",
    "    for start_idx, stop_idx in zip(range(0, len(df)-1, 2), range(1, len(df), 2)):\n",
    "        start_frame = frames_arr[start_idx]\n",
    "        stop_frame = frames_arr[stop_idx]\n",
    "        behavior_num = df.iloc[start_idx].Behavior\n",
    "        arr[start_frame:stop_frame] = behavior_num\n",
    "    \n",
    "    return arr"
   ]
  },
  {
   "cell_type": "code",
   "execution_count": 102,
   "id": "ba8a6fb1",
   "metadata": {},
   "outputs": [],
   "source": [
    "CAF34_loc_arr = behavior_arr(CAF34_loc_df, \"CAF34\")\n",
    "CAF34_reg_arr = behavior_arr(CAF34_reg_df, \"CAF34\")"
   ]
  },
  {
   "cell_type": "code",
   "execution_count": 103,
   "id": "271a2722",
   "metadata": {},
   "outputs": [],
   "source": [
    "CAF42_loc_arr = behavior_arr(CAF42_loc_df, \"CAF42\")\n",
    "CAF42_reg_arr = behavior_arr(CAF42_reg_df, \"CAF42\")"
   ]
  },
  {
   "cell_type": "code",
   "execution_count": 104,
   "id": "a017ecce",
   "metadata": {},
   "outputs": [],
   "source": [
    "CAF69_loc_arr = behavior_arr(CAF69_loc_df, \"CAF69\")\n",
    "CAF69_reg_arr = behavior_arr(CAF69_reg_df, \"CAF69\")"
   ]
  },
  {
   "cell_type": "code",
   "execution_count": 105,
   "id": "2b004729",
   "metadata": {},
   "outputs": [],
   "source": [
    "CAF99_loc_arr = behavior_arr(CAF99_loc_df, \"CAF99\")\n",
    "CAF99_reg_arr = behavior_arr(CAF99_reg_df, \"CAF99\")"
   ]
  },
  {
   "cell_type": "code",
   "execution_count": 106,
   "id": "90d819d2",
   "metadata": {},
   "outputs": [],
   "source": [
    "CAF106_loc_arr = behavior_arr(CAF106_loc_df, \"CAF106\")\n",
    "CAF106_reg_arr = behavior_arr(CAF106_reg_df, \"CAF106\")"
   ]
  },
  {
   "cell_type": "code",
   "execution_count": 107,
   "id": "fa417860",
   "metadata": {},
   "outputs": [],
   "source": [
    "CAF77_loc_arr = behavior_arr(CAF77_loc_df, \"CAF77\")\n",
    "CAF77_reg_arr = behavior_arr(CAF77_reg_df, \"CAF77\")"
   ]
  },
  {
   "cell_type": "code",
   "execution_count": 108,
   "id": "41c93ca0",
   "metadata": {},
   "outputs": [],
   "source": [
    "EAB50_loc_arr = behavior_arr(EAB50_loc_df, \"EAB50_5state\")\n",
    "EAB50_loc_arr = behavior_arr(EAB50_loc_df, \"EAB50_5state\")"
   ]
  },
  {
   "cell_type": "markdown",
   "id": "05035689",
   "metadata": {},
   "source": [
    "### Consolidating Top and Side Annotations"
   ]
  },
  {
   "cell_type": "markdown",
   "id": "fc302be3",
   "metadata": {},
   "source": [
    "Applicable to CAF26 and KDR48, which both have top and side annotations for the same timestamp"
   ]
  },
  {
   "cell_type": "code",
   "execution_count": 206,
   "id": "f49df37a",
   "metadata": {},
   "outputs": [],
   "source": [
    "CAF26_top_df, vid26 = clean_ants(absolute, \"CAF26_top\")\n",
    "video_names[\"CAF26\"] = vid26"
   ]
  },
  {
   "cell_type": "code",
   "execution_count": 208,
   "id": "fe8b2e68",
   "metadata": {},
   "outputs": [],
   "source": [
    "CAF26_side_df, __ = clean_ants(absolute, \"CAF26_side\")"
   ]
  },
  {
   "cell_type": "code",
   "execution_count": 167,
   "id": "eab37b36",
   "metadata": {},
   "outputs": [],
   "source": [
    "CAF26t_loc_df, CAF26t_reg_df = sep_beh(CAF26_top_df)\n",
    "CAF26s_loc_df, CAF26s_reg_df = sep_beh(CAF26_side_df)"
   ]
  },
  {
   "cell_type": "code",
   "execution_count": 168,
   "id": "1038db44",
   "metadata": {},
   "outputs": [],
   "source": [
    "CAF26t_loc_arr = behavior_arr(CAF26t_loc_df, \"CAF26\")\n",
    "CAF26t_reg_arr = behavior_arr(CAF26t_reg_df, \"CAF26\")"
   ]
  },
  {
   "cell_type": "code",
   "execution_count": 169,
   "id": "e2ada6f6",
   "metadata": {},
   "outputs": [],
   "source": [
    "CAF26s_loc_arr = behavior_arr(CAF26s_loc_df, \"CAF26\")\n",
    "CAF26s_reg_arr = behavior_arr(CAF26s_reg_df, \"CAF26\")"
   ]
  },
  {
   "cell_type": "markdown",
   "id": "8a905af3",
   "metadata": {},
   "source": [
    "To resolve the two angles, a priority angle is chosen. Then, the two annotations are compared by frame. If the nonpriority angle has a behavior annotation where the priority angle does not, this annotation is included in the resolved array. The priority angle is used as the basis of the resolution array."
   ]
  },
  {
   "cell_type": "code",
   "execution_count": 170,
   "id": "c0fe1357",
   "metadata": {},
   "outputs": [],
   "source": [
    "#combined function\n",
    "#top acting as priority\n",
    "def resolution(top_arr, side_arr):\n",
    "    top_binary = np.array(top_arr != 0, dtype=int)\n",
    "    side_binary = np.array(side_arr != 0, dtype=int)\n",
    "    \n",
    "    mask_side = (side_binary == 1)\n",
    "    mask_top = (top_binary == 0)\n",
    "    binary_mask = np.logical_and(mask_side, mask_top)\n",
    "    \n",
    "    res_arr = np.copy(top_arr)\n",
    "    res_arr[binary_mask] = side_arr[binary_mask]\n",
    "    \n",
    "    return res_arr"
   ]
  },
  {
   "cell_type": "code",
   "execution_count": 171,
   "id": "c19220f5",
   "metadata": {},
   "outputs": [],
   "source": [
    "#resolution array for location + regular behaviors\n",
    "CAF26r_loc_arr = resolution(CAF26t_loc_arr, CAF26s_loc_arr)\n",
    "CAF26r_reg_arr = resolution(CAF26t_reg_arr, CAF26s_reg_arr)"
   ]
  },
  {
   "cell_type": "markdown",
   "id": "d4064164",
   "metadata": {},
   "source": [
    "### Adding New Column to Dataframe"
   ]
  },
  {
   "cell_type": "code",
   "execution_count": 172,
   "id": "85dfbb5c",
   "metadata": {},
   "outputs": [
    {
     "data": {
      "text/plain": [
       "{'CAF34': 'e3v819c-20200828T011409-021410.mp4',\n",
       " 'CAF42': 'e3v81a6-20200915T022243-032244.mp4',\n",
       " 'CAF69': 'e3v81a6-20201230T155846-165847.mp4',\n",
       " 'CAF77': 'e3v819c-20210202T164844-174844.mp4',\n",
       " 'CAF99': 'CAF00099-20210608T040846-050846.mp4',\n",
       " 'CAF106': 'CAF00106-20210607T110838-120839.mp4',\n",
       " 'EAB50_5state': 'e3v817b-20190705T2055-2155.mp4',\n",
       " 'CAF26': 'e3v819c-20200808T0609-0709.mp4'}"
      ]
     },
     "execution_count": 172,
     "metadata": {},
     "output_type": "execute_result"
    }
   ],
   "source": [
    "#dictionary with video names for each annotation\n",
    "video_names"
   ]
  },
  {
   "cell_type": "code",
   "execution_count": 43,
   "id": "9870aa11",
   "metadata": {},
   "outputs": [],
   "source": [
    "modof_df = of_df.copy()"
   ]
  },
  {
   "cell_type": "code",
   "execution_count": 46,
   "id": "ae492ca4",
   "metadata": {},
   "outputs": [],
   "source": [
    "#creates loc_behaviors and reg_behaviors columns\n",
    "#adds annotations into given dataframe\n",
    "def add_beh(loc_arr, reg_arr, video, df):\n",
    "    #selects rows that correspond to annotated video\n",
    "    video_df = df.index[df[\"video_filename\"] == video]\n",
    "    start_idx = video_df.tolist()[0]\n",
    "    end_idx = video_df.tolist()[-1] + 1\n",
    "    \n",
    "    #add annotations to those rows\n",
    "    df[\"loc_behaviors\"][start_idx:end_idx] = loc_arr\n",
    "    df[\"reg_behaviors\"][start_idx:end_idx] = reg_arr\n",
    "    \n",
    "    return df"
   ]
  },
  {
   "cell_type": "code",
   "execution_count": 47,
   "id": "f36ba4e7",
   "metadata": {},
   "outputs": [],
   "source": [
    "#must call function for each mouse - definitely a better way to do this, \n",
    "#maybe iteration, either through the function or outside of it\n",
    "modof_df = add_beh(CAF34_loc_arr, CAF34_reg_arr, video_names[\"CAF34\"], modof_df)\n",
    "modof_df = add_beh(CAF42_loc_arr, CAF42_reg_arr, video_names[\"CAF42\"], modof_df)\n",
    "modof_df = add_beh(CAF69_loc_arr, CAF69_reg_arr, video_names[\"CAF69\"], modof_df)\n",
    "modof_df = add_beh(CAF99_loc_arr, CAF99_reg_arr, video_names[\"CAF99\"], modof_df)\n",
    "modof_df = add_beh(CAF106_loc_arr, CAF106_reg_arr, video_names[\"CAF106\"], modof_df)"
   ]
  },
  {
   "cell_type": "code",
   "execution_count": 173,
   "id": "2f7958e0",
   "metadata": {},
   "outputs": [],
   "source": [
    "modof_df = add_beh(CAF26r_loc_arr, CAF26r_reg_arr, video_names[\"CAF26\"], modof_df)"
   ]
  },
  {
   "cell_type": "code",
   "execution_count": 437,
   "id": "1b75b6aa",
   "metadata": {},
   "outputs": [],
   "source": [
    "#csv\n",
    "modof_df.to_csv(\"/Users/graciezhang/Documents/Hengen-Lab/annotations_df.csv\", encoding='utf-8', index=False)"
   ]
  },
  {
   "cell_type": "code",
   "execution_count": 179,
   "id": "0ed44c3e",
   "metadata": {},
   "outputs": [],
   "source": [
    "#feather\n",
    "modof_df.to_feather(\"/Users/graciezhang/Documents/Hengen-Lab/annotations_df-feather\")"
   ]
  },
  {
   "cell_type": "markdown",
   "id": "0bc370ff",
   "metadata": {},
   "source": [
    "### Verifying Correctness"
   ]
  },
  {
   "cell_type": "code",
   "execution_count": 65,
   "id": "a64099b4",
   "metadata": {},
   "outputs": [
    {
     "data": {
      "text/plain": [
       "(array([ 1317,  1318,  1319, ..., 16357, 16358, 16359]),)"
      ]
     },
     "execution_count": 65,
     "metadata": {},
     "output_type": "execute_result"
    }
   ],
   "source": [
    "check_arr = modof_df[modof_df[\"video_filename\"] == video_names[\"CAF69\"]][\"reg_behaviors\"].values\n",
    "# check_arr\n",
    "np.where(check_arr == 11)"
   ]
  },
  {
   "cell_type": "code",
   "execution_count": 180,
   "id": "16314de6",
   "metadata": {},
   "outputs": [
    {
     "data": {
      "text/html": [
       "<div>\n",
       "<style scoped>\n",
       "    .dataframe tbody tr th:only-of-type {\n",
       "        vertical-align: middle;\n",
       "    }\n",
       "\n",
       "    .dataframe tbody tr th {\n",
       "        vertical-align: top;\n",
       "    }\n",
       "\n",
       "    .dataframe thead th {\n",
       "        text-align: right;\n",
       "    }\n",
       "</style>\n",
       "<table border=\"1\" class=\"dataframe\">\n",
       "  <thead>\n",
       "    <tr style=\"text-align: right;\">\n",
       "      <th></th>\n",
       "      <th>Time</th>\n",
       "      <th>Total length</th>\n",
       "      <th>FPS</th>\n",
       "      <th>Behavior</th>\n",
       "      <th>Status</th>\n",
       "      <th>Minutes</th>\n",
       "      <th>Frames</th>\n",
       "    </tr>\n",
       "  </thead>\n",
       "  <tbody>\n",
       "    <tr>\n",
       "      <th>8</th>\n",
       "      <td>87.833</td>\n",
       "      <td>3600.96</td>\n",
       "      <td>30</td>\n",
       "      <td>11</td>\n",
       "      <td>START</td>\n",
       "      <td>0:01:27.833000</td>\n",
       "      <td>1317</td>\n",
       "    </tr>\n",
       "    <tr>\n",
       "      <th>9</th>\n",
       "      <td>88.233</td>\n",
       "      <td>3600.96</td>\n",
       "      <td>30</td>\n",
       "      <td>11</td>\n",
       "      <td>STOP</td>\n",
       "      <td>0:01:28.233000</td>\n",
       "      <td>1323</td>\n",
       "    </tr>\n",
       "    <tr>\n",
       "      <th>10</th>\n",
       "      <td>104.067</td>\n",
       "      <td>3600.96</td>\n",
       "      <td>30</td>\n",
       "      <td>12</td>\n",
       "      <td>START</td>\n",
       "      <td>0:01:44.067000</td>\n",
       "      <td>1561</td>\n",
       "    </tr>\n",
       "    <tr>\n",
       "      <th>11</th>\n",
       "      <td>116.800</td>\n",
       "      <td>3600.96</td>\n",
       "      <td>30</td>\n",
       "      <td>12</td>\n",
       "      <td>STOP</td>\n",
       "      <td>0:01:56.800000</td>\n",
       "      <td>1752</td>\n",
       "    </tr>\n",
       "    <tr>\n",
       "      <th>12</th>\n",
       "      <td>122.167</td>\n",
       "      <td>3600.96</td>\n",
       "      <td>30</td>\n",
       "      <td>13</td>\n",
       "      <td>START</td>\n",
       "      <td>0:02:02.167000</td>\n",
       "      <td>1833</td>\n",
       "    </tr>\n",
       "    <tr>\n",
       "      <th>13</th>\n",
       "      <td>122.733</td>\n",
       "      <td>3600.96</td>\n",
       "      <td>30</td>\n",
       "      <td>13</td>\n",
       "      <td>STOP</td>\n",
       "      <td>0:02:02.733000</td>\n",
       "      <td>1841</td>\n",
       "    </tr>\n",
       "    <tr>\n",
       "      <th>14</th>\n",
       "      <td>132.200</td>\n",
       "      <td>3600.96</td>\n",
       "      <td>30</td>\n",
       "      <td>13</td>\n",
       "      <td>START</td>\n",
       "      <td>0:02:12.200000</td>\n",
       "      <td>1983</td>\n",
       "    </tr>\n",
       "  </tbody>\n",
       "</table>\n",
       "</div>"
      ],
      "text/plain": [
       "       Time  Total length  FPS Behavior Status         Minutes  Frames\n",
       "8    87.833       3600.96   30       11  START  0:01:27.833000    1317\n",
       "9    88.233       3600.96   30       11   STOP  0:01:28.233000    1323\n",
       "10  104.067       3600.96   30       12  START  0:01:44.067000    1561\n",
       "11  116.800       3600.96   30       12   STOP  0:01:56.800000    1752\n",
       "12  122.167       3600.96   30       13  START  0:02:02.167000    1833\n",
       "13  122.733       3600.96   30       13   STOP  0:02:02.733000    1841\n",
       "14  132.200       3600.96   30       13  START  0:02:12.200000    1983"
      ]
     },
     "execution_count": 180,
     "metadata": {},
     "output_type": "execute_result"
    }
   ],
   "source": [
    "CAF69_df[8:15]"
   ]
  },
  {
   "cell_type": "code",
   "execution_count": 182,
   "id": "51afcd55",
   "metadata": {},
   "outputs": [
    {
     "data": {
      "text/plain": [
       "array(['STOP'], dtype=object)"
      ]
     },
     "execution_count": 182,
     "metadata": {},
     "output_type": "execute_result"
    }
   ],
   "source": [
    "CAF69_df[\"Status\"].iloc[1::2].unique()"
   ]
  },
  {
   "cell_type": "code",
   "execution_count": 402,
   "id": "37a09b63",
   "metadata": {},
   "outputs": [
    {
     "data": {
      "text/plain": [
       "'e3v81a6-20201230T155846-165847.mp4'"
      ]
     },
     "execution_count": 402,
     "metadata": {},
     "output_type": "execute_result"
    }
   ],
   "source": [
    "video_names[\"CAF69\"]"
   ]
  }
 ],
 "metadata": {
  "kernelspec": {
   "display_name": "Python 3 (ipykernel)",
   "language": "python",
   "name": "python3"
  },
  "language_info": {
   "codemirror_mode": {
    "name": "ipython",
    "version": 3
   },
   "file_extension": ".py",
   "mimetype": "text/x-python",
   "name": "python",
   "nbconvert_exporter": "python",
   "pygments_lexer": "ipython3",
   "version": "3.9.12"
  }
 },
 "nbformat": 4,
 "nbformat_minor": 5
}
