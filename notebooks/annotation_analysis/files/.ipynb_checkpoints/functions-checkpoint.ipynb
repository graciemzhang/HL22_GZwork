{
 "cells": [
  {
   "cell_type": "markdown",
   "id": "d59fbd27",
   "metadata": {},
   "source": [
    "### Imports"
   ]
  },
  {
   "cell_type": "code",
   "execution_count": 7,
   "id": "19a7bc52",
   "metadata": {},
   "outputs": [],
   "source": [
    "import numpy as np\n",
    "import pandas as pd\n",
    "import re\n",
    "import warnings\n",
    "import datetime\n",
    "warnings.filterwarnings(\"ignore\")\n",
    "import pickle\n",
    "import scipy\n",
    "from scipy import signal"
   ]
  },
  {
   "cell_type": "markdown",
   "id": "2b0740c9",
   "metadata": {},
   "source": [
    "The following functions are in the order that they are intended to be run. "
   ]
  },
  {
   "cell_type": "code",
   "execution_count": 1,
   "id": "1401991c",
   "metadata": {},
   "outputs": [],
   "source": [
    "#finds groups given array\n",
    "from itertools import groupby\n",
    "from collections import defaultdict\n",
    "\n",
    "def find_groups(arr):\n",
    "    i = 0\n",
    "    result = defaultdict(list)\n",
    "    for k, g in groupby(arr):\n",
    "        elems = len(list(g))\n",
    "        result[k].append((i, i+elems-1))\n",
    "        i += elems\n",
    "    \n",
    "    return result"
   ]
  },
  {
   "cell_type": "code",
   "execution_count": 6,
   "id": "8a47f066",
   "metadata": {},
   "outputs": [],
   "source": [
    "#median filter on normalized OF\n",
    "def median_filter(video_name, filter_length = 5):\n",
    "    ref_df = df[df['video_filename'] == video_name]\n",
    "    return scipy.signal.medfilt(ref_df['percentile_normalized_flow'].values, filter_length)"
   ]
  },
  {
   "cell_type": "code",
   "execution_count": 5,
   "id": "e0c8abf7",
   "metadata": {},
   "outputs": [],
   "source": [
    "#is in high activity\n",
    "def is_in_hact(threshold_value, median_filter):\n",
    "    is_in = []\n",
    "    for i in range(len(median_filter)):\n",
    "        if median_filter[i] >= threshold_value:\n",
    "            is_in.append(True) \n",
    "        else:\n",
    "            is_in.append(False)\n",
    "    return is_in"
   ]
  },
  {
   "cell_type": "code",
   "execution_count": 6,
   "id": "b81ce29a",
   "metadata": {},
   "outputs": [],
   "source": [
    "#calculates the flicker interval\n",
    "def calculate_frames(start, end, interval):\n",
    "    mid_frame = (int)((end + start) / 2)\n",
    "    start_frame = mid_frame - interval\n",
    "    end_frame = mid_frame + interval\n",
    "    \n",
    "    #based off the script Doran wrote in video_clipper.ipynb under the video_analysis directory\n",
    "    if end_frame > 54000 or start_frame < 0 or end_frame < 0 or start_frame > 54000:\n",
    "        return None\n",
    "    \n",
    "    return start_frame, end_frame"
   ]
  },
  {
   "cell_type": "code",
   "execution_count": 1,
   "id": "3d335dc4",
   "metadata": {},
   "outputs": [],
   "source": [
    "#gets column information from specified flicker interval\n",
    "def annotations(video_name, video_df, flicker, interval, col):\n",
    "    flicker_start = flicker[0]\n",
    "    flicker_end = flicker[1]\n",
    "    \n",
    "    frame_start, frame_end = calculate_frames(flicker_start, flicker_end, interval)\n",
    "    \n",
    "    name = video_name.split(\".\")[0] + \"_f\" + format(flicker_start) + \"-\" + \"f\" + format(flicker_end) + \".mp4\"\n",
    "    ants = video_df[col][frame_start:frame_end].values\n",
    "    \n",
    "    return name, ants"
   ]
  },
  {
   "cell_type": "code",
   "execution_count": 7,
   "id": "44323609",
   "metadata": {},
   "outputs": [],
   "source": [
    "#plots flickers of given video\n",
    "def plt_video(video_name, flickers, interval, info):\n",
    "    video_df = mod_df.loc[mod_df[\"video_filename\"] == video_name]\n",
    "    every_flicker = flickers.get(video_name)\n",
    "    \n",
    "    if every_flicker != None:\n",
    "        for i, flicker in enumerate(every_flicker):\n",
    "            start, end = calculate_frames(flicker[0], flicker[1], interval)\n",
    "            name, ant = annotations(video_name, video_df, flicker, interval, info)\n",
    "            print(name)\n",
    "\n",
    "            x = range(len(ant))\n",
    "            plt.plot(x, ant)\n",
    "            plt.plot(x, video_df[\"median_filter_pnf\"][start:end].values)\n",
    "            plt.axhline(y=0.35, color='r', linestyle='-')\n",
    "            plt.title(name)\n",
    "            plt.show()\n",
    "    else:\n",
    "        print(video_name)"
   ]
  }
 ],
 "metadata": {
  "kernelspec": {
   "display_name": "Python 3 (ipykernel)",
   "language": "python",
   "name": "python3"
  },
  "language_info": {
   "codemirror_mode": {
    "name": "ipython",
    "version": 3
   },
   "file_extension": ".py",
   "mimetype": "text/x-python",
   "name": "python",
   "nbconvert_exporter": "python",
   "pygments_lexer": "ipython3",
   "version": "3.9.12"
  }
 },
 "nbformat": 4,
 "nbformat_minor": 5
}
