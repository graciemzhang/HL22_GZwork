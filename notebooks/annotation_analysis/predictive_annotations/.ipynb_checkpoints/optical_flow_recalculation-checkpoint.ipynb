{
 "cells": [
  {
   "cell_type": "markdown",
   "id": "739d62ae",
   "metadata": {},
   "source": [
    "### Imports"
   ]
  },
  {
   "cell_type": "code",
   "execution_count": 15,
   "id": "01cd7f96",
   "metadata": {},
   "outputs": [],
   "source": [
    "import cv2\n",
    "import numpy as np\n",
    "import matplotlib.pyplot as plt\n",
    "import statistics"
   ]
  },
  {
   "cell_type": "markdown",
   "id": "072071c7",
   "metadata": {},
   "source": [
    "### Set Up"
   ]
  },
  {
   "cell_type": "markdown",
   "id": "3983a4d8",
   "metadata": {},
   "source": [
    "<b>referencing:</b> \n",
    "\n",
    "https://medium.com/@igorirailean/dense-optical-flow-with-python-using-opencv-cb6d9b6abcaf\n",
    "\n",
    "https://www.geeksforgeeks.org/opencv-the-gunnar-farneback-optical-flow/"
   ]
  },
  {
   "cell_type": "code",
   "execution_count": 37,
   "id": "e2f3aad5",
   "metadata": {},
   "outputs": [],
   "source": [
    "vid_path = \"/Users/graciezhang/Documents/Hengen-Lab/videos/e3v819c-20210202T164844-174844.mp4\""
   ]
  },
  {
   "cell_type": "code",
   "execution_count": 46,
   "id": "42867543",
   "metadata": {},
   "outputs": [],
   "source": [
    "of_arr = []"
   ]
  },
  {
   "cell_type": "code",
   "execution_count": 47,
   "id": "99e8328c",
   "metadata": {},
   "outputs": [],
   "source": [
    "def resize_frame(frame):\n",
    "    resize_dim = 600\n",
    "    max_dim = max(frame.shape)\n",
    "    scale = resize_dim/max_dim\n",
    "    return cv2.resize(frame, None, fx=scale, fy=scale)"
   ]
  },
  {
   "cell_type": "code",
   "execution_count": 50,
   "id": "5a6e3a7d",
   "metadata": {},
   "outputs": [],
   "source": [
    "#create video capture object\n",
    "cap = cv2.VideoCapture(vid_path)\n",
    "\n",
    "#read in the first frame\n",
    "_, prev_frame = cap.read()\n",
    "\n",
    "#convert to grayscale\n",
    "prev_gray = cv2.cvtColor(resize_frame(prev_frame), cv2.COLOR_BGR2GRAY)"
   ]
  },
  {
   "cell_type": "code",
   "execution_count": null,
   "id": "22bea9c4",
   "metadata": {},
   "outputs": [],
   "source": [
    "#success\n",
    "count = 0\n",
    "while cap.isOpened():\n",
    "    _, cur_frame = cap.read()\n",
    "    cur_gray = cv2.cvtColor(resize_frame(cur_frame), cv2.COLOR_BGR2GRAY)\n",
    "    \n",
    "    flow = cv2.calcOpticalFlowFarneback(prev_gray, cur_gray, None, 0.5, 3, 15, 3, 5, 1.2, 0)\n",
    "    of_arr.append(flow)\n",
    "    prev_gray = cur_gray\n",
    "    \n",
    "    count = count + 1\n",
    "\n",
    "cap.release()\n",
    "cv2.destroyAllWindows()"
   ]
  },
  {
   "cell_type": "markdown",
   "id": "ac06f0bc",
   "metadata": {},
   "source": [
    "### Analysis"
   ]
  },
  {
   "cell_type": "code",
   "execution_count": null,
   "id": "fdf48dae",
   "metadata": {},
   "outputs": [],
   "source": [
    "of_path = '../Files/optical_flow_df'"
   ]
  }
 ],
 "metadata": {
  "kernelspec": {
   "display_name": "Python 3 (ipykernel)",
   "language": "python",
   "name": "python3"
  },
  "language_info": {
   "codemirror_mode": {
    "name": "ipython",
    "version": 3
   },
   "file_extension": ".py",
   "mimetype": "text/x-python",
   "name": "python",
   "nbconvert_exporter": "python",
   "pygments_lexer": "ipython3",
   "version": "3.9.12"
  }
 },
 "nbformat": 4,
 "nbformat_minor": 5
}
