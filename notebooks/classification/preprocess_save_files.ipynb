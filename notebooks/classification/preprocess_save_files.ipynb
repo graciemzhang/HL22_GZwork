{
 "cells": [
  {
   "cell_type": "markdown",
   "id": "41338c27",
   "metadata": {},
   "source": [
    "### Imports"
   ]
  },
  {
   "cell_type": "code",
   "execution_count": 33,
   "id": "fa10fd95",
   "metadata": {},
   "outputs": [],
   "source": [
    "import numpy as np\n",
    "import pandas as pd\n",
    "import os\n",
    "import scipy\n",
    "from scipy import stats, signal\n",
    "import pickle\n",
    "import csv\n",
    "import datetime\n",
    "\n",
    "import time\n",
    "\n",
    "import warnings\n",
    "warnings.filterwarnings(\"ignore\")"
   ]
  },
  {
   "cell_type": "code",
   "execution_count": 34,
   "id": "845258c7",
   "metadata": {},
   "outputs": [],
   "source": [
    "import shutil"
   ]
  },
  {
   "cell_type": "markdown",
   "id": "3c29e66d",
   "metadata": {},
   "source": [
    "### File Paths"
   ]
  },
  {
   "cell_type": "code",
   "execution_count": 35,
   "id": "4e12c817",
   "metadata": {},
   "outputs": [],
   "source": [
    "#must define paths to the object prediction directory, body part prediction directory, and video annotation directory\n",
    "cwd = os.getcwd()\n",
    "dlc_parent = os.path.join(cwd, 'dlc')\n",
    "obj_parent = os.path.join(cwd, 'behavior_propagate')\n",
    "ant_parent = os.path.join(cwd, 'annotations')\n",
    "file_path = os.path.join(cwd, 'files')"
   ]
  },
  {
   "cell_type": "markdown",
   "id": "9d3a88f7",
   "metadata": {},
   "source": [
    "### Pickling Files"
   ]
  },
  {
   "cell_type": "code",
   "execution_count": 36,
   "id": "83221cb2",
   "metadata": {},
   "outputs": [],
   "source": [
    "#pickles file\n",
    "def pickle_file(file_path, file):\n",
    "    outfile = open(file_path,'wb')\n",
    "    pickle.dump(file, outfile)\n",
    "    outfile.close()"
   ]
  },
  {
   "cell_type": "code",
   "execution_count": 37,
   "id": "f78588d9",
   "metadata": {},
   "outputs": [],
   "source": [
    "#opens pickled file\n",
    "def open_pickle(file_path):\n",
    "    infile = open(file_path,'rb')\n",
    "    file = pickle.load(infile)\n",
    "    infile.close()\n",
    "    \n",
    "    return file"
   ]
  },
  {
   "cell_type": "markdown",
   "id": "bccfe975",
   "metadata": {},
   "source": [
    "### Loading .txt Files"
   ]
  },
  {
   "cell_type": "code",
   "execution_count": 92,
   "id": "3c10c092",
   "metadata": {},
   "outputs": [],
   "source": [
    "#constants + necessary information\n",
    "mice_name = [\"caf99\", \"kdr48\", \"caf42\", \"caf26\"]\n",
    "\n",
    "body_parts = ['base_tail', 'body_core', 'headstage', 'left_ear', 'right_ear', 'snout']\n",
    "\n",
    "obj_names = {\"caf99\" : \"CAF00099-20210608T040846-050846\", \n",
    "            \"kdr48\" : \"KDR00048_Corner-20220502T201304-211305\", \n",
    "            \"caf42\" : \"e3v81a6-20200915T022243-032244\", \n",
    "            \"caf26\" : \"e3v81a8-20200808T0609-0709\"}\n",
    "\n",
    "dlc_names = {\"caf99\" : \"CAF00099-20210608T040846-050846DLC_resnet50_caf26_caf42_caf99_kdr48Jul12shuffle1_1030000.h5\",\n",
    "            \"kdr48\" : \"KDR00048_Top-20220502T201307-211308DLC_resnet50_caf26_caf42_caf99_kdr48Jul12shuffle1_1030000.h5\",\n",
    "            \"caf42\" : \"e3v81a6-20200915T022243-032244DLC_resnet50_caf26_caf42_caf99_kdr48Jul12shuffle1_1030000.h5\",\n",
    "            \"caf26\" : \"e3v81a8-20200808T0609-0709DLC_resnet50_caf26_caf42_caf99_kdr48Jul12shuffle1_1030000.h5\"}\n",
    "\n",
    "frame_num = dict.fromkeys(mice_name)"
   ]
  },
  {
   "cell_type": "code",
   "execution_count": 106,
   "id": "9690f5af",
   "metadata": {},
   "outputs": [],
   "source": [
    "#combines all txt files (one for each frame) into a multiindex dataframe\n",
    "#one dataframe for each frame of the video\n",
    "#combines into multiindex dataframe where first index is the frame and second index corresponds to the object\n",
    "def obj_frames(parent_dir, mouse_name):\n",
    "    #stores each line of dataframe\n",
    "    frames = {}\n",
    "    \n",
    "    #path to mouse directory\n",
    "    obj_dir = os.path.join(parent_dir, f'{mouse_name}_infer')\n",
    "    \n",
    "    #column names\n",
    "    header = ['label','x_center','y_center','x_width','y_height','confidence']\n",
    "    \n",
    "    #stores number of frames\n",
    "    total_frames = len([name for name in os.listdir(obj_dir) if name != \".DS_Store\"])\n",
    "    frame_num[mouse_name] = total_frames\n",
    "\n",
    "    #iterates through entire directory\n",
    "    for i in range(total_frames):\n",
    "        #opens each txt file and stores into dictionary\n",
    "        objs_df = pd.read_csv(os.path.join(obj_dir, f'{obj_names[mouse_name]}_{i + 1}.txt'), sep = \",\", skiprows = 1, names = header, header = None)\n",
    "        frames[i] = objs_df\n",
    "    \n",
    "    df = pd.concat(frames)\n",
    "    \n",
    "    #returns dictionary of all frames, key: frame #, value: dataframe at frame\n",
    "    return df"
   ]
  },
  {
   "cell_type": "code",
   "execution_count": 107,
   "id": "decec692",
   "metadata": {},
   "outputs": [
    {
     "name": "stdout",
     "output_type": "stream",
     "text": [
      "caf99\n",
      "1746.1812200546265\n",
      "kdr48\n",
      "6746.072951078415\n",
      "caf42\n",
      "7588.4480838775635\n",
      "caf26\n",
      "139.9658658504486\n"
     ]
    }
   ],
   "source": [
    "#creates individual dataframes for each mouse, combines into one large dataframe\n",
    "dataframes = {}\n",
    "for mouse in mice_name:\n",
    "    start_time = time.time()\n",
    "    print(mouse)\n",
    "    \n",
    "    #gets each dataframe for every frame\n",
    "    frames = obj_frames(obj_parent, mouse)\n",
    "    #adds dataframe to dictionary\n",
    "    dataframes[mouse] = frames\n",
    "    #pickles dataframe\n",
    "    #individual dataframe for mouse\n",
    "    pickle_file(os.path.join(file_path, f'{mouse}_obj_df'), frames)\n",
    "    \n",
    "    print(time.time() - start_time)\n",
    "#pickles dictionary\n",
    "pickle_file(os.path.join(file_path, 'all_obj_dict'), dataframes)"
   ]
  },
  {
   "cell_type": "code",
   "execution_count": 123,
   "id": "b84a731b",
   "metadata": {},
   "outputs": [
    {
     "name": "stdout",
     "output_type": "stream",
     "text": [
      "caf99\n",
      "0.5934350490570068\n",
      "kdr48\n",
      "0.291550874710083\n",
      "caf42\n",
      "0.24297690391540527\n",
      "caf26\n",
      "0.36738014221191406\n"
     ]
    }
   ],
   "source": [
    "#flatten multiindex dataframes\n",
    "flatten_dataframes = {}\n",
    "for mouse in mice_name:\n",
    "    start_time = time.time()\n",
    "    print(mouse)\n",
    "    \n",
    "    mouse_obj_df = open_pickle(os.path.join(file_path, f'{mouse}_obj_df'))\n",
    "    mouse_obj_df = mouse_obj_df.reset_index([0, 1])\n",
    "    mouse_obj_df.rename(columns={'level_0': 'frame', 'level_1': 'num_objs'}, inplace = True)\n",
    "    \n",
    "    flatten_dataframes[mouse] = mouse_obj_df\n",
    "    \n",
    "    pickle_file(os.path.join(file_path, f'flatten_{mouse}_obj_df'), mouse_obj_df)\n",
    "    \n",
    "    print(time.time() - start_time)\n",
    "pickle_file(os.path.join(file_path, 'flatten_all_obj_dict'), flatten_dataframes)"
   ]
  },
  {
   "cell_type": "markdown",
   "id": "dd076ad8",
   "metadata": {},
   "source": [
    "### Loading .h5 Files"
   ]
  },
  {
   "cell_type": "code",
   "execution_count": 19,
   "id": "15f261eb",
   "metadata": {},
   "outputs": [],
   "source": [
    "#given the dlc h5 path, a dataframe is read in\n",
    "def load_dlc(dlc_path):\n",
    "    dlc_df = pd.read_hdf(dlc_path)\n",
    "    scorer = dlc_df.columns.levels[0][0]\n",
    "    dlc_df = dlc_df[scorer]\n",
    "    \n",
    "    return dlc_df"
   ]
  },
  {
   "cell_type": "code",
   "execution_count": 20,
   "id": "f4535cfa",
   "metadata": {},
   "outputs": [
    {
     "name": "stdout",
     "output_type": "stream",
     "text": [
      "caf99\n",
      "0.2343120574951172\n",
      "kdr48\n",
      "0.0546722412109375\n",
      "caf42\n",
      "0.04892611503601074\n",
      "caf26\n",
      "0.0546879768371582\n"
     ]
    }
   ],
   "source": [
    "dataframes = {}\n",
    "for mouse in mice_name:\n",
    "    start_time = time.time()\n",
    "    print(mouse)\n",
    "    \n",
    "    #saves dataframe as an hdf file\n",
    "    path = os.path.join(file_path, f'{mouse}_dlc_df.h5')\n",
    "    dlc_path = os.path.join(dlc_parent, dlc_names[mouse])\n",
    "    dlc_df = load_dlc(dlc_path)\n",
    "    dlc_df.to_hdf(path, key = 'dlc_df', mode = 'w')\n",
    "    \n",
    "    #stores dataframe to dictionary\n",
    "    dataframes[mouse] = dlc_df\n",
    "    \n",
    "    print(time.time() - start_time)\n",
    "\n",
    "#pickles dictionary with all dataframes\n",
    "pickle_file(os.path.join(file_path, 'all_parts_dict'), dataframes)"
   ]
  },
  {
   "cell_type": "markdown",
   "id": "670b4bdf",
   "metadata": {},
   "source": [
    "### Loading Behavior Annotations"
   ]
  },
  {
   "cell_type": "markdown",
   "id": "213eba02",
   "metadata": {},
   "source": [
    "First, parse the csv files for all annotations."
   ]
  },
  {
   "cell_type": "code",
   "execution_count": 139,
   "id": "1bcd9865",
   "metadata": {},
   "outputs": [],
   "source": [
    "#encodes all categorical behaviors to numerical\n",
    "def cat_num(df):\n",
    "    #encode\n",
    "    df.Behavior[df.Behavior=='Nesting'] = 1 # Location\n",
    "    df.Behavior[df.Behavior=='Playing w/ Ball'] = 2 # Location\n",
    "    df.Behavior[df.Behavior=='Playing w/ Box'] = 3 # Location\n",
    "    df.Behavior[df.Behavior=='Riding the Ball'] = 4 # Location\n",
    "    df.Behavior[df.Behavior=='Riding the Box'] = 5 # Location\n",
    "    df.Behavior[df.Behavior=='Drinking'] = 6 # Location\n",
    "    df.Behavior[df.Behavior=='Chewing'] = 7 # Location\n",
    "    df.Behavior[df.Behavior=='Porthole Interaction'] = 8 # Location\n",
    "    df.Behavior[df.Behavior=='Scaling Porthole'] = 9 #Location\n",
    "    df.Behavior[df.Behavior=='Scaling Door'] = 10 #Location\n",
    "    \n",
    "    df.Behavior[df.Behavior=='Grooming'] = 11\n",
    "    \n",
    "    df.Behavior[df.Behavior=='Hollowing/Digging'] = 12\n",
    "    df.Behavior[df.Behavior=='Digging'] = 12\n",
    "    \n",
    "    df.Behavior[df.Behavior=='Locomotion'] = 13\n",
    "    df.Behavior[df.Behavior=='Locomotive Movement'] = 13\n",
    "    \n",
    "    df.Behavior[df.Behavior=='Minor Postural Movement'] = 14\n",
    "    df.Behavior[df.Behavior=='Rearing'] = 15\n",
    "    df.Behavior[df.Behavior=='Stretching'] = 16\n",
    "    df.Behavior[df.Behavior=='Twitching'] = 17\n",
    "    df.Behavior[df.Behavior=='Slipping'] = 18\n",
    "    \n",
    "    #drop all nonbehaviors\n",
    "    df = df[df.Behavior.apply(lambda x: str(x).isnumeric())]\n",
    "    \n",
    "    return df"
   ]
  },
  {
   "cell_type": "code",
   "execution_count": 140,
   "id": "b6c24f02",
   "metadata": {},
   "outputs": [],
   "source": [
    "def get_skip_rows(file_name):\n",
    "    with open(file_name, newline='') as f:\n",
    "      reader = csv.reader(f)\n",
    "      for i, row in enumerate(reader):\n",
    "            if row[0] == \"Time\":\n",
    "                return i\n",
    "    return None"
   ]
  },
  {
   "cell_type": "code",
   "execution_count": 141,
   "id": "7647a147",
   "metadata": {},
   "outputs": [],
   "source": [
    "def add_frames_column(df):\n",
    "    fps = 15\n",
    "    df['Frames'] = df['Time'].apply(lambda x: round(x * fps))\n",
    "    df.sort_values(by = ['Frames', 'Status'])\n",
    "    return df"
   ]
  },
  {
   "cell_type": "code",
   "execution_count": 142,
   "id": "5ba6c2b8",
   "metadata": {},
   "outputs": [],
   "source": [
    "def clean_ants(file_name, mouse_name):\n",
    "    skip = get_skip_rows(file_name)\n",
    "    \n",
    "    df = pd.read_csv(file_name, skiprows = skip)\n",
    "    \n",
    "    #add timestamps column\n",
    "    df['Minutes'] = df.apply(lambda row: str(datetime.timedelta(seconds = row['Time'])), axis=1)\n",
    "    \n",
    "    #drop unnecessary columns\n",
    "    drop_filter = df.filter([\"Media file path\", \"Subject\", \"Behavioral category\", \"Comment\"])\n",
    "    \n",
    "    df.drop(drop_filter, axis = 1, inplace = True)\n",
    "    \n",
    "    #encode all categorical behaviors\n",
    "    df = cat_num(df)\n",
    "    \n",
    "    #add frames columns\n",
    "    df = add_frames_column(df)\n",
    "    \n",
    "    return df"
   ]
  },
  {
   "cell_type": "markdown",
   "id": "8bb89346",
   "metadata": {},
   "source": [
    "Separate behaviors + create corresponding arrays."
   ]
  },
  {
   "cell_type": "code",
   "execution_count": 143,
   "id": "31326ce6",
   "metadata": {},
   "outputs": [],
   "source": [
    "def sep_beh(df):\n",
    "    df_loc = df.loc[df.Behavior < 11]\n",
    "    df_reg = df.loc[df.Behavior >= 11]\n",
    "    \n",
    "    return df_loc, df_reg"
   ]
  },
  {
   "cell_type": "code",
   "execution_count": 144,
   "id": "a0ade3aa",
   "metadata": {},
   "outputs": [],
   "source": [
    "def behavior_arr(df, total_frames):\n",
    "#     total_time = df['Total length'].unique()[0]\n",
    "#     fps = 15\n",
    "    #fps = df['FPS'].unique()[0]\n",
    "    \n",
    "    arr = np.zeros(total_frames)\n",
    "    \n",
    "    frames_arr = df['Frames'].to_numpy()\n",
    "    \n",
    "    for start_idx, stop_idx in zip(range(0, len(df)-1, 2), range(1, len(df), 2)):\n",
    "        start_frame = frames_arr[start_idx]\n",
    "        stop_frame = frames_arr[stop_idx]\n",
    "        behavior_num = df.iloc[start_idx].Behavior\n",
    "        arr[start_frame:stop_frame] = behavior_num\n",
    "    \n",
    "    return arr"
   ]
  },
  {
   "cell_type": "code",
   "execution_count": 145,
   "id": "97108774",
   "metadata": {},
   "outputs": [
    {
     "name": "stdout",
     "output_type": "stream",
     "text": [
      "caf99\n",
      "0.3398890495300293\n",
      "kdr48\n",
      "0.21668720245361328\n",
      "caf42\n",
      "0.2411510944366455\n",
      "caf26\n",
      "0.2804570198059082\n"
     ]
    }
   ],
   "source": [
    "for mouse in mice_name:\n",
    "    print(mouse)\n",
    "    start_time = time.time()\n",
    "    filename = os.path.join(ant_parent, f'{mouse}_dt_test.csv')\n",
    "    parsed_df = clean_ants(filename, mouse)\n",
    "\n",
    "    loc_df, reg_df = sep_beh(parsed_df)\n",
    "\n",
    "    frames = frame_num[mouse]\n",
    "\n",
    "    loc_arr = behavior_arr(loc_df, frames)\n",
    "    reg_arr = behavior_arr(reg_df, frames)\n",
    "\n",
    "    pickle_file(os.path.join(ant_parent, f'{mouse}_loc_arr'), loc_arr)\n",
    "    pickle_file(os.path.join(ant_parent, f'{mouse}_reg_arr'), reg_arr)\n",
    "\n",
    "    print(time.time() - start_time)"
   ]
  },
  {
   "cell_type": "code",
   "execution_count": 38,
   "id": "c78b1cfd",
   "metadata": {},
   "outputs": [
    {
     "data": {
      "text/plain": [
       "108000"
      ]
     },
     "execution_count": 38,
     "metadata": {},
     "output_type": "execute_result"
    }
   ],
   "source": [
    "len(open_pickle(os.path.join(ant_parent, 'caf99_loc_arr')))"
   ]
  },
  {
   "cell_type": "markdown",
   "id": "0d88e23c",
   "metadata": {},
   "source": [
    "### Dead Code"
   ]
  },
  {
   "cell_type": "code",
   "execution_count": 108,
   "id": "bbd83e70",
   "metadata": {},
   "outputs": [],
   "source": [
    "test = open_pickle(os.path.join(file_path, 'caf42_obj_df'))"
   ]
  },
  {
   "cell_type": "code",
   "execution_count": 109,
   "id": "f2ac3126",
   "metadata": {},
   "outputs": [
    {
     "data": {
      "text/html": [
       "<div>\n",
       "<style scoped>\n",
       "    .dataframe tbody tr th:only-of-type {\n",
       "        vertical-align: middle;\n",
       "    }\n",
       "\n",
       "    .dataframe tbody tr th {\n",
       "        vertical-align: top;\n",
       "    }\n",
       "\n",
       "    .dataframe thead th {\n",
       "        text-align: right;\n",
       "    }\n",
       "</style>\n",
       "<table border=\"1\" class=\"dataframe\">\n",
       "  <thead>\n",
       "    <tr style=\"text-align: right;\">\n",
       "      <th></th>\n",
       "      <th>frame</th>\n",
       "      <th>num_objs</th>\n",
       "      <th>label</th>\n",
       "      <th>x_center</th>\n",
       "      <th>y_center</th>\n",
       "      <th>x_width</th>\n",
       "      <th>y_height</th>\n",
       "      <th>confidence</th>\n",
       "    </tr>\n",
       "  </thead>\n",
       "  <tbody>\n",
       "    <tr>\n",
       "      <th>0</th>\n",
       "      <td>0</td>\n",
       "      <td>0</td>\n",
       "      <td>pellet</td>\n",
       "      <td>273.73504</td>\n",
       "      <td>112.93008</td>\n",
       "      <td>40.67008</td>\n",
       "      <td>37.46016</td>\n",
       "      <td>NaN</td>\n",
       "    </tr>\n",
       "    <tr>\n",
       "      <th>1</th>\n",
       "      <td>0</td>\n",
       "      <td>1</td>\n",
       "      <td>pellet</td>\n",
       "      <td>463.47520</td>\n",
       "      <td>327.00000</td>\n",
       "      <td>51.64992</td>\n",
       "      <td>63.44016</td>\n",
       "      <td>NaN</td>\n",
       "    </tr>\n",
       "    <tr>\n",
       "      <th>2</th>\n",
       "      <td>0</td>\n",
       "      <td>2</td>\n",
       "      <td>pellet</td>\n",
       "      <td>219.95008</td>\n",
       "      <td>110.25504</td>\n",
       "      <td>57.26016</td>\n",
       "      <td>44.95008</td>\n",
       "      <td>NaN</td>\n",
       "    </tr>\n",
       "    <tr>\n",
       "      <th>3</th>\n",
       "      <td>0</td>\n",
       "      <td>3</td>\n",
       "      <td>box</td>\n",
       "      <td>382.68480</td>\n",
       "      <td>389.26992</td>\n",
       "      <td>120.49024</td>\n",
       "      <td>124.88016</td>\n",
       "      <td>NaN</td>\n",
       "    </tr>\n",
       "    <tr>\n",
       "      <th>4</th>\n",
       "      <td>0</td>\n",
       "      <td>4</td>\n",
       "      <td>ball</td>\n",
       "      <td>325.85472</td>\n",
       "      <td>131.22000</td>\n",
       "      <td>108.28992</td>\n",
       "      <td>98.54016</td>\n",
       "      <td>NaN</td>\n",
       "    </tr>\n",
       "    <tr>\n",
       "      <th>...</th>\n",
       "      <td>...</td>\n",
       "      <td>...</td>\n",
       "      <td>...</td>\n",
       "      <td>...</td>\n",
       "      <td>...</td>\n",
       "      <td>...</td>\n",
       "      <td>...</td>\n",
       "      <td>...</td>\n",
       "    </tr>\n",
       "    <tr>\n",
       "      <th>1025072</th>\n",
       "      <td>54014</td>\n",
       "      <td>14</td>\n",
       "      <td>spout</td>\n",
       "      <td>450.95488</td>\n",
       "      <td>95.31984</td>\n",
       "      <td>19.71008</td>\n",
       "      <td>18.08016</td>\n",
       "      <td>NaN</td>\n",
       "    </tr>\n",
       "    <tr>\n",
       "      <th>1025073</th>\n",
       "      <td>54014</td>\n",
       "      <td>15</td>\n",
       "      <td>porthole</td>\n",
       "      <td>77.25504</td>\n",
       "      <td>426.39984</td>\n",
       "      <td>16.92992</td>\n",
       "      <td>23.16000</td>\n",
       "      <td>NaN</td>\n",
       "    </tr>\n",
       "    <tr>\n",
       "      <th>1025074</th>\n",
       "      <td>54014</td>\n",
       "      <td>16</td>\n",
       "      <td>porthole</td>\n",
       "      <td>110.09024</td>\n",
       "      <td>411.10512</td>\n",
       "      <td>15.90016</td>\n",
       "      <td>21.25008</td>\n",
       "      <td>NaN</td>\n",
       "    </tr>\n",
       "    <tr>\n",
       "      <th>1025075</th>\n",
       "      <td>54014</td>\n",
       "      <td>17</td>\n",
       "      <td>body</td>\n",
       "      <td>257.00032</td>\n",
       "      <td>48.50016</td>\n",
       "      <td>78.00000</td>\n",
       "      <td>69.00000</td>\n",
       "      <td>0.843156</td>\n",
       "    </tr>\n",
       "    <tr>\n",
       "      <th>1025076</th>\n",
       "      <td>54014</td>\n",
       "      <td>18</td>\n",
       "      <td>headstage</td>\n",
       "      <td>245.50016</td>\n",
       "      <td>123.99984</td>\n",
       "      <td>41.00000</td>\n",
       "      <td>57.99984</td>\n",
       "      <td>0.444088</td>\n",
       "    </tr>\n",
       "  </tbody>\n",
       "</table>\n",
       "<p>1025077 rows × 8 columns</p>\n",
       "</div>"
      ],
      "text/plain": [
       "         frame  num_objs      label   x_center   y_center    x_width  \\\n",
       "0            0         0     pellet  273.73504  112.93008   40.67008   \n",
       "1            0         1     pellet  463.47520  327.00000   51.64992   \n",
       "2            0         2     pellet  219.95008  110.25504   57.26016   \n",
       "3            0         3        box  382.68480  389.26992  120.49024   \n",
       "4            0         4       ball  325.85472  131.22000  108.28992   \n",
       "...        ...       ...        ...        ...        ...        ...   \n",
       "1025072  54014        14      spout  450.95488   95.31984   19.71008   \n",
       "1025073  54014        15   porthole   77.25504  426.39984   16.92992   \n",
       "1025074  54014        16   porthole  110.09024  411.10512   15.90016   \n",
       "1025075  54014        17       body  257.00032   48.50016   78.00000   \n",
       "1025076  54014        18  headstage  245.50016  123.99984   41.00000   \n",
       "\n",
       "          y_height  confidence  \n",
       "0         37.46016         NaN  \n",
       "1         63.44016         NaN  \n",
       "2         44.95008         NaN  \n",
       "3        124.88016         NaN  \n",
       "4         98.54016         NaN  \n",
       "...            ...         ...  \n",
       "1025072   18.08016         NaN  \n",
       "1025073   23.16000         NaN  \n",
       "1025074   21.25008         NaN  \n",
       "1025075   69.00000    0.843156  \n",
       "1025076   57.99984    0.444088  \n",
       "\n",
       "[1025077 rows x 8 columns]"
      ]
     },
     "execution_count": 109,
     "metadata": {},
     "output_type": "execute_result"
    }
   ],
   "source": [
    "#FLATTENING MULTIINDEX DATAFRAME\n",
    "test = test.reset_index([0, 1])\n",
    "test.rename(columns={'level_0': 'frame', 'level_1': 'num_objs'}, inplace=True)\n",
    "test"
   ]
  },
  {
   "cell_type": "code",
   "execution_count": 133,
   "id": "7fccab84",
   "metadata": {},
   "outputs": [],
   "source": [
    "obj = test[test['label'] == 'spout']"
   ]
  },
  {
   "cell_type": "code",
   "execution_count": 138,
   "id": "0880241e",
   "metadata": {},
   "outputs": [
    {
     "data": {
      "text/plain": [
       "450.95488"
      ]
     },
     "execution_count": 138,
     "metadata": {},
     "output_type": "execute_result"
    }
   ],
   "source": [
    "obj[obj['frame'] == 54000]['x_center'].values[0]"
   ]
  },
  {
   "cell_type": "code",
   "execution_count": 89,
   "id": "058fc730",
   "metadata": {},
   "outputs": [],
   "source": [
    "#CONFIRMING DATAFRAMES HAVE THE SAME NUMBER OF FRAMES\n",
    "# for mouse in mice_name:\n",
    "#     obj_len = len([name for name in os.listdir(os.path.join(obj_parent, f'{mouse}_infer')) if name != \".DS_Store\"])\n",
    "#     dlc_len = len(pd.read_hdf(os.path.join(dlc_parent, dlc_names[mouse])))\n",
    "    \n",
    "#     if obj_len != dlc_len:\n",
    "#         print(mouse)\n",
    "#         print(obj_len)\n",
    "#         print(dlc_len)\n",
    "    \n",
    "#     else:\n",
    "#         print('success')"
   ]
  }
 ],
 "metadata": {
  "kernelspec": {
   "display_name": "Python 3 (ipykernel)",
   "language": "python",
   "name": "python3"
  },
  "language_info": {
   "codemirror_mode": {
    "name": "ipython",
    "version": 3
   },
   "file_extension": ".py",
   "mimetype": "text/x-python",
   "name": "python",
   "nbconvert_exporter": "python",
   "pygments_lexer": "ipython3",
   "version": "3.9.12"
  }
 },
 "nbformat": 4,
 "nbformat_minor": 5
}
